{
  "nbformat": 4,
  "nbformat_minor": 0,
  "metadata": {
    "colab": {
      "name": "Untitled1.ipynb",
      "provenance": [],
      "authorship_tag": "ABX9TyPndRqbssHalHeeOz4KBq2i",
      "include_colab_link": true
    },
    "kernelspec": {
      "name": "python3",
      "display_name": "Python 3"
    },
    "language_info": {
      "name": "python"
    }
  },
  "cells": [
    {
      "cell_type": "markdown",
      "metadata": {
        "id": "view-in-github",
        "colab_type": "text"
      },
      "source": [
        "<a href=\"https://colab.research.google.com/github/owo0219/python-L2/blob/main/e269.ipynb\" target=\"_parent\"><img src=\"https://colab.research.google.com/assets/colab-badge.svg\" alt=\"Open In Colab\"/></a>"
      ]
    },
    {
      "cell_type": "code",
      "metadata": {
        "id": "YxG354UsNobK"
      },
      "source": [
        "def abc(s1):\n",
        "    m=0\n",
        "    j=0\n",
        "    n=\"\"\n",
        "    slist=list(s1)\n",
        "    for i in range(0, len(slist)):\n",
        "        if(slist[i]==' '):\n",
        "          if(j<m):\n",
        "            m=m-1\n",
        "          j=0\n",
        "        else:\n",
        "          j=j+1\n",
        "          if(j==1):\n",
        "            m=m+1\n",
        "          if(j==m):\n",
        "            n=n+ slist[i]\n",
        "    return n\n",
        "\n",
        "T=int(input())\n",
        "o=\"\"\n",
        "for i in range(0,T):\n",
        "  while(1):\n",
        "    s1=input()\n",
        "    if(s1 == ''):\n",
        "      break\n",
        "    else:\n",
        "      n=abc( s1 )\n",
        "      o=o+n+\"\\n\"\n",
        "\n",
        "  p=i+1\n",
        "  q=\"Case #\"+str(p)+\":\"\n",
        "  print(q)\n",
        "  print(o)\n",
        "  o=\"\""
      ],
      "execution_count": null,
      "outputs": []
    }
  ]
}